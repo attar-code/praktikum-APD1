{
 "cells": [
  {
   "cell_type": "markdown",
   "id": "77a3768e",
   "metadata": {},
   "source": [
    "## DICTIONARY"
   ]
  },
  {
   "cell_type": "code",
   "execution_count": null,
   "id": "835d9f12",
   "metadata": {},
   "outputs": [
    {
     "name": "stdout",
     "output_type": "stream",
     "text": [
      "ayam nila\n"
     ]
    }
   ],
   "source": [
    "makanan = {\n",
    "    \"darat\" : \"ayam\",\n",
    "    \"air tawar\" : \"nila\",\n",
    "    \"air laut\" : \"kakap\"\n",
    "}\n",
    "\n",
    "print(makanan[\"darat\"], makanan[\"air tawar\"])"
   ]
  },
  {
   "cell_type": "code",
   "execution_count": null,
   "id": "ad43fb35",
   "metadata": {},
   "outputs": [],
   "source": []
  },
  {
   "cell_type": "code",
   "execution_count": null,
   "id": "9fd6e1b6",
   "metadata": {},
   "outputs": [],
   "source": []
  }
 ],
 "metadata": {
  "kernelspec": {
   "display_name": "mlenv",
   "language": "python",
   "name": "python3"
  },
  "language_info": {
   "codemirror_mode": {
    "name": "ipython",
    "version": 3
   },
   "file_extension": ".py",
   "mimetype": "text/x-python",
   "name": "python",
   "nbconvert_exporter": "python",
   "pygments_lexer": "ipython3",
   "version": "3.10.18"
  }
 },
 "nbformat": 4,
 "nbformat_minor": 5
}
